{
 "cells": [
  {
   "cell_type": "code",
   "execution_count": 2,
   "metadata": {},
   "outputs": [
    {
     "ename": "ModuleNotFoundError",
     "evalue": "No module named 'tensorflow'",
     "output_type": "error",
     "traceback": [
      "\u001b[0;31m------------------------------------------------------------------------\u001b[0m",
      "\u001b[0;31mModuleNotFoundError\u001b[0m                    Traceback (most recent call last)",
      "\u001b[0;32m<ipython-input-2-144bc6f946c5>\u001b[0m in \u001b[0;36m<module>\u001b[0;34m\u001b[0m\n\u001b[0;32m----> 1\u001b[0;31m \u001b[0;32mimport\u001b[0m \u001b[0mtensorflow\u001b[0m \u001b[0;32mas\u001b[0m \u001b[0mtf\u001b[0m\u001b[0;34m\u001b[0m\u001b[0;34m\u001b[0m\u001b[0m\n\u001b[0m\u001b[1;32m      2\u001b[0m \u001b[0;32mfrom\u001b[0m \u001b[0mflask\u001b[0m \u001b[0;32mimport\u001b[0m \u001b[0mFlask\u001b[0m\u001b[0;34m,\u001b[0m \u001b[0mrequest\u001b[0m\u001b[0;34m,\u001b[0m \u001b[0mjsonify\u001b[0m \u001b[0;31m# loading in Flask\u001b[0m\u001b[0;34m\u001b[0m\u001b[0;34m\u001b[0m\u001b[0m\n\u001b[1;32m      3\u001b[0m \u001b[0;32mfrom\u001b[0m \u001b[0mludwig\u001b[0m \u001b[0;32mimport\u001b[0m \u001b[0mLudwigModel\u001b[0m \u001b[0;31m# loading in Ludwig\u001b[0m\u001b[0;34m\u001b[0m\u001b[0;34m\u001b[0m\u001b[0m\n\u001b[1;32m      4\u001b[0m \u001b[0;32mimport\u001b[0m \u001b[0mpandas\u001b[0m \u001b[0;32mas\u001b[0m \u001b[0mpd\u001b[0m \u001b[0;31m# loading pandas for reading csv\u001b[0m\u001b[0;34m\u001b[0m\u001b[0;34m\u001b[0m\u001b[0m\n\u001b[1;32m      5\u001b[0m \u001b[0;34m\u001b[0m\u001b[0m\n",
      "\u001b[0;31mModuleNotFoundError\u001b[0m: No module named 'tensorflow'"
     ]
    }
   ],
   "source": [
    "# import tensorflow as tf\n",
    "from flask import Flask, request, jsonify # loading in Flask\n",
    "from ludwig import LudwigModel # loading in Ludwig\n",
    "import pandas as pd # loading pandas for reading csv\n",
    "\n",
    "# creating a Flask application\n",
    "app = Flask(__name__)\n",
    "\n",
    "# Load the model\n",
    "model = LudwigModel.load('model')\n",
    "\n",
    "# creating predict url and only allowing post requests.\n",
    "@app.route('/predict', methods=['POST'])\n",
    "def predict():\n",
    "    # Get data from Post request\n",
    "    data = request.get_json()\n",
    "    # Make prediction\n",
    "    df = pd.DataFrame([str(data['text'])], columns=['content'])\n",
    "    print(df.head())\n",
    "    # making predictions\n",
    "    pred = model.predict(data_df=df)\n",
    "    print(pred)\n",
    "    # returning the predictions as json\n",
    "    return jsonify(pred['airline_sentiment_predictions'][0])\n",
    "\n",
    "if __name__ == '__main__':\n",
    "    app.run(port=3000, debug=True)"
   ]
  },
  {
   "cell_type": "code",
   "execution_count": null,
   "metadata": {},
   "outputs": [],
   "source": []
  }
 ],
 "metadata": {
  "kernelspec": {
   "display_name": "Python 3",
   "language": "python",
   "name": "python3"
  },
  "language_info": {
   "codemirror_mode": {
    "name": "ipython",
    "version": 3
   },
   "file_extension": ".py",
   "mimetype": "text/x-python",
   "name": "python",
   "nbconvert_exporter": "python",
   "pygments_lexer": "ipython3",
   "version": "3.7.3"
  }
 },
 "nbformat": 4,
 "nbformat_minor": 2
}
